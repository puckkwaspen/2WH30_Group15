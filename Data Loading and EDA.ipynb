{
 "cells": [
  {
   "cell_type": "markdown",
   "id": "bf53ffe2",
   "metadata": {},
   "source": [
    "# Imports"
   ]
  },
  {
   "cell_type": "code",
   "execution_count": 1,
   "id": "7ccb83f0",
   "metadata": {},
   "outputs": [],
   "source": [
    "import pandas as pd"
   ]
  },
  {
   "cell_type": "markdown",
   "id": "22157137",
   "metadata": {},
   "source": [
    "# Loading data with only one material "
   ]
  },
  {
   "cell_type": "code",
   "execution_count": 2,
   "id": "23648562",
   "metadata": {},
   "outputs": [
    {
     "data": {
      "text/html": [
       "<div>\n",
       "<style scoped>\n",
       "    .dataframe tbody tr th:only-of-type {\n",
       "        vertical-align: middle;\n",
       "    }\n",
       "\n",
       "    .dataframe tbody tr th {\n",
       "        vertical-align: top;\n",
       "    }\n",
       "\n",
       "    .dataframe thead th {\n",
       "        text-align: right;\n",
       "    }\n",
       "</style>\n",
       "<table border=\"1\" class=\"dataframe\">\n",
       "  <thead>\n",
       "    <tr style=\"text-align: right;\">\n",
       "      <th></th>\n",
       "      <th>Object name</th>\n",
       "      <th>Material</th>\n",
       "      <th>Stained</th>\n",
       "      <th>Surface properties</th>\n",
       "    </tr>\n",
       "  </thead>\n",
       "  <tbody>\n",
       "    <tr>\n",
       "      <th>0</th>\n",
       "      <td>Christmas bear</td>\n",
       "      <td>cloth</td>\n",
       "      <td>Pluriform</td>\n",
       "      <td>NaN</td>\n",
       "    </tr>\n",
       "    <tr>\n",
       "      <th>2</th>\n",
       "      <td>Apricot</td>\n",
       "      <td>fruit</td>\n",
       "      <td>Uniform</td>\n",
       "      <td>NaN</td>\n",
       "    </tr>\n",
       "    <tr>\n",
       "      <th>4</th>\n",
       "      <td>Nut</td>\n",
       "      <td>wood</td>\n",
       "      <td>Uniform</td>\n",
       "      <td>ribbed</td>\n",
       "    </tr>\n",
       "    <tr>\n",
       "      <th>5</th>\n",
       "      <td>Pot</td>\n",
       "      <td>pottery</td>\n",
       "      <td>Uniform</td>\n",
       "      <td>smooth</td>\n",
       "    </tr>\n",
       "    <tr>\n",
       "      <th>6</th>\n",
       "      <td>Shell</td>\n",
       "      <td>shell</td>\n",
       "      <td>Uniform</td>\n",
       "      <td>rough</td>\n",
       "    </tr>\n",
       "  </tbody>\n",
       "</table>\n",
       "</div>"
      ],
      "text/plain": [
       "      Object name Material    Stained Surface properties\n",
       "0  Christmas bear    cloth  Pluriform                NaN\n",
       "2         Apricot    fruit    Uniform                NaN\n",
       "4             Nut     wood    Uniform             ribbed\n",
       "5             Pot  pottery    Uniform             smooth\n",
       "6           Shell    shell    Uniform              rough"
      ]
     },
     "execution_count": 2,
     "metadata": {},
     "output_type": "execute_result"
    }
   ],
   "source": [
    "# Loading the dataset\n",
    "file_path = 'annotation_table.csv'\n",
    "data_1 = pd.read_csv(file_path)\n",
    "\n",
    "# Ordering the dataset\n",
    "\n",
    "data_clean = data_1.drop(['No.'], axis=1)\n",
    "\n",
    "# Cleaning the dataset (all letter lowercase)\n",
    "data_clean['Material'] = data_clean['Material'].str.lower()\n",
    "data_clean['Surface properties'] = data_clean['Surface properties'].str.lower()\n",
    "\n",
    "# Dropping entries with no values for materials\n",
    "data_clean = data_clean.dropna(subset=['Material'])\n",
    "\n",
    "# Deleting rows with multiple materials\n",
    "data_cleaned = data_clean[~data_clean['Material'].str.contains(r',| ', regex=True)]\n",
    "\n",
    "\n",
    "data_cleaned.head()"
   ]
  },
  {
   "cell_type": "markdown",
   "id": "e0a02310",
   "metadata": {},
   "source": [
    "# Loading data with more materials"
   ]
  },
  {
   "cell_type": "code",
   "execution_count": 3,
   "id": "8bfbfc22",
   "metadata": {},
   "outputs": [
    {
     "data": {
      "text/html": [
       "<div>\n",
       "<style scoped>\n",
       "    .dataframe tbody tr th:only-of-type {\n",
       "        vertical-align: middle;\n",
       "    }\n",
       "\n",
       "    .dataframe tbody tr th {\n",
       "        vertical-align: top;\n",
       "    }\n",
       "\n",
       "    .dataframe thead th {\n",
       "        text-align: right;\n",
       "    }\n",
       "</style>\n",
       "<table border=\"1\" class=\"dataframe\">\n",
       "  <thead>\n",
       "    <tr style=\"text-align: right;\">\n",
       "      <th></th>\n",
       "      <th>Object name</th>\n",
       "      <th>Material</th>\n",
       "      <th>Stained</th>\n",
       "      <th>Surface properties</th>\n",
       "    </tr>\n",
       "  </thead>\n",
       "  <tbody>\n",
       "    <tr>\n",
       "      <th>0</th>\n",
       "      <td>Christmas bear</td>\n",
       "      <td>cloth</td>\n",
       "      <td>Pluriform</td>\n",
       "      <td>NaN</td>\n",
       "    </tr>\n",
       "    <tr>\n",
       "      <th>1</th>\n",
       "      <td>Lab-keys</td>\n",
       "      <td>metal, cloth</td>\n",
       "      <td>NaN</td>\n",
       "      <td>composite, shiny</td>\n",
       "    </tr>\n",
       "    <tr>\n",
       "      <th>2</th>\n",
       "      <td>Apricot</td>\n",
       "      <td>fruit</td>\n",
       "      <td>Uniform</td>\n",
       "      <td>NaN</td>\n",
       "    </tr>\n",
       "    <tr>\n",
       "      <th>3</th>\n",
       "      <td>Round candle</td>\n",
       "      <td>candle, metal</td>\n",
       "      <td>NaN</td>\n",
       "      <td>composite, shiny</td>\n",
       "    </tr>\n",
       "    <tr>\n",
       "      <th>4</th>\n",
       "      <td>Nut</td>\n",
       "      <td>wood</td>\n",
       "      <td>Uniform</td>\n",
       "      <td>ribbed</td>\n",
       "    </tr>\n",
       "  </tbody>\n",
       "</table>\n",
       "</div>"
      ],
      "text/plain": [
       "      Object name       Material    Stained Surface properties\n",
       "0  Christmas bear          cloth  Pluriform                NaN\n",
       "1        Lab-keys   metal, cloth        NaN   composite, shiny\n",
       "2         Apricot          fruit    Uniform                NaN\n",
       "3    Round candle  candle, metal        NaN   composite, shiny\n",
       "4             Nut           wood    Uniform             ribbed"
      ]
     },
     "execution_count": 3,
     "metadata": {},
     "output_type": "execute_result"
    }
   ],
   "source": [
    "# Loading the dataset\n",
    "file_path = 'annotation_table.csv'\n",
    "data = pd.read_csv(file_path)\n",
    "\n",
    "# Ordering the dataset\n",
    "sorted_data_more_materials = data.drop(['No.'], axis=1)\n",
    "\n",
    "# Cleaning the dataset (all letter lowercase)\n",
    "sorted_data_more_materials['Material'] = sorted_data_more_materials['Material'].str.lower()\n",
    "sorted_data_more_materials['Surface properties'] = sorted_data_more_materials['Surface properties'].str.lower()\n",
    "\n",
    "sorted_data_more_materials.head()"
   ]
  },
  {
   "cell_type": "code",
   "execution_count": 4,
   "id": "85cfe676",
   "metadata": {},
   "outputs": [
    {
     "data": {
      "text/plain": [
       "754"
      ]
     },
     "execution_count": 4,
     "metadata": {},
     "output_type": "execute_result"
    }
   ],
   "source": [
    "len(data_cleaned)"
   ]
  },
  {
   "cell_type": "code",
   "execution_count": 5,
   "id": "3f0317f6",
   "metadata": {},
   "outputs": [
    {
     "data": {
      "text/plain": [
       "1000"
      ]
     },
     "execution_count": 5,
     "metadata": {},
     "output_type": "execute_result"
    }
   ],
   "source": [
    "len(sorted_data_more_materials)"
   ]
  },
  {
   "cell_type": "markdown",
   "id": "8d792ff8",
   "metadata": {},
   "source": [
    "# EDA"
   ]
  },
  {
   "cell_type": "code",
   "execution_count": null,
   "id": "fa17c0e6",
   "metadata": {},
   "outputs": [],
   "source": []
  }
 ],
 "metadata": {
  "kernelspec": {
   "display_name": "Python 3 (ipykernel)",
   "language": "python",
   "name": "python3"
  },
  "language_info": {
   "codemirror_mode": {
    "name": "ipython",
    "version": 3
   },
   "file_extension": ".py",
   "mimetype": "text/x-python",
   "name": "python",
   "nbconvert_exporter": "python",
   "pygments_lexer": "ipython3",
   "version": "3.9.16"
  }
 },
 "nbformat": 4,
 "nbformat_minor": 5
}
