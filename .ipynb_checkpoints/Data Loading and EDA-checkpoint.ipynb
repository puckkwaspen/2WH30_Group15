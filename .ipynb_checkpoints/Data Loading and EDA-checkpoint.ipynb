{
 "cells": [
  {
   "cell_type": "markdown",
   "id": "bf53ffe2",
   "metadata": {},
   "source": [
    "# Imports"
   ]
  },
  {
   "cell_type": "code",
   "execution_count": 1,
   "id": "7ccb83f0",
   "metadata": {},
   "outputs": [],
   "source": [
    "import pandas as pd"
   ]
  },
  {
   "cell_type": "markdown",
   "id": "22157137",
   "metadata": {},
   "source": [
    "# Loading data with only one material "
   ]
  },
  {
   "cell_type": "code",
   "execution_count": 2,
   "id": "23648562",
   "metadata": {},
   "outputs": [
    {
     "data": {
      "text/html": [
       "<div>\n",
       "<style scoped>\n",
       "    .dataframe tbody tr th:only-of-type {\n",
       "        vertical-align: middle;\n",
       "    }\n",
       "\n",
       "    .dataframe tbody tr th {\n",
       "        vertical-align: top;\n",
       "    }\n",
       "\n",
       "    .dataframe thead th {\n",
       "        text-align: right;\n",
       "    }\n",
       "</style>\n",
       "<table border=\"1\" class=\"dataframe\">\n",
       "  <thead>\n",
       "    <tr style=\"text-align: right;\">\n",
       "      <th></th>\n",
       "      <th>Object name</th>\n",
       "      <th>Material</th>\n",
       "      <th>Stained</th>\n",
       "      <th>Surface properties</th>\n",
       "    </tr>\n",
       "  </thead>\n",
       "  <tbody>\n",
       "    <tr>\n",
       "      <th>0</th>\n",
       "      <td>Christmas bear</td>\n",
       "      <td>cloth</td>\n",
       "      <td>pluriform</td>\n",
       "      <td>NaN</td>\n",
       "    </tr>\n",
       "    <tr>\n",
       "      <th>2</th>\n",
       "      <td>Apricot</td>\n",
       "      <td>fruit</td>\n",
       "      <td>uniform</td>\n",
       "      <td>NaN</td>\n",
       "    </tr>\n",
       "    <tr>\n",
       "      <th>4</th>\n",
       "      <td>Nut</td>\n",
       "      <td>wood</td>\n",
       "      <td>uniform</td>\n",
       "      <td>ribbed</td>\n",
       "    </tr>\n",
       "    <tr>\n",
       "      <th>5</th>\n",
       "      <td>Pot</td>\n",
       "      <td>pottery</td>\n",
       "      <td>uniform</td>\n",
       "      <td>smooth</td>\n",
       "    </tr>\n",
       "    <tr>\n",
       "      <th>6</th>\n",
       "      <td>Shell</td>\n",
       "      <td>shell</td>\n",
       "      <td>uniform</td>\n",
       "      <td>rough</td>\n",
       "    </tr>\n",
       "  </tbody>\n",
       "</table>\n",
       "</div>"
      ],
      "text/plain": [
       "      Object name Material    Stained Surface properties\n",
       "0  Christmas bear    cloth  pluriform                NaN\n",
       "2         Apricot    fruit    uniform                NaN\n",
       "4             Nut     wood    uniform             ribbed\n",
       "5             Pot  pottery    uniform             smooth\n",
       "6           Shell    shell    uniform              rough"
      ]
     },
     "execution_count": 2,
     "metadata": {},
     "output_type": "execute_result"
    }
   ],
   "source": [
    "# Loading the dataset\n",
    "file_path = 'annotation_table.csv'\n",
    "data_1 = pd.read_csv(file_path)\n",
    "\n",
    "# Ordering the dataset\n",
    "\n",
    "data_clean = data_1.drop(['No.'], axis=1)\n",
    "\n",
    "# Cleaning the dataset (all letter lowercase)\n",
    "data_clean['Material'] = data_clean['Material'].str.lower()\n",
    "data_clean['Surface properties'] = data_clean['Surface properties'].str.lower()\n",
    "\n",
    "# Dropping entries with no values for materials\n",
    "data_clean = data_clean.dropna(subset=['Material'])\n",
    "\n",
    "# Deleting rows with multiple materials\n",
    "data_cleaned = data_clean[~data_clean['Material'].str.contains(r',| ', regex=True)]\n",
    "\n",
    "# Fixing single instances\n",
    "data_cleaned.loc[:, 'Material'] = data_cleaned['Material'].replace('plasatic', 'plastic')\n",
    "data_cleaned.loc[:, 'Material'] = data_cleaned['Material'].replace('copper', 'metal')\n",
    "\n",
    "data_cleaned.loc[:, 'Stained'] = data_cleaned['Stained'].replace('Uniform', 'uniform')\n",
    "data_cleaned.loc[:, 'Stained'] = data_cleaned['Stained'].replace('uniforma', 'uniform')\n",
    "data_cleaned.loc[:, 'Stained'] = data_cleaned['Stained'].replace('uniiform', 'uniform')\n",
    "\n",
    "data_cleaned.loc[:, 'Stained'] = data_cleaned['Stained'].replace('Pluriform', 'pluriform')\n",
    "data_cleaned.loc[:, 'Stained'] = data_cleaned['Stained'].replace('plurfiorm', 'pluriform')\n",
    "data_cleaned.loc[:, 'Stained'] = data_cleaned['Stained'].replace('plurifom', 'pluriform')\n",
    "data_cleaned.loc[:, 'Stained'] = data_cleaned['Stained'].replace('plurfirom', 'pluriform')\n",
    "\n",
    "\n",
    "data_cleaned.head()"
   ]
  },
  {
   "cell_type": "markdown",
   "id": "e0a02310",
   "metadata": {},
   "source": [
    "# Loading data with more materials"
   ]
  },
  {
   "cell_type": "code",
   "execution_count": 3,
   "id": "8bfbfc22",
   "metadata": {},
   "outputs": [
    {
     "data": {
      "text/html": [
       "<div>\n",
       "<style scoped>\n",
       "    .dataframe tbody tr th:only-of-type {\n",
       "        vertical-align: middle;\n",
       "    }\n",
       "\n",
       "    .dataframe tbody tr th {\n",
       "        vertical-align: top;\n",
       "    }\n",
       "\n",
       "    .dataframe thead th {\n",
       "        text-align: right;\n",
       "    }\n",
       "</style>\n",
       "<table border=\"1\" class=\"dataframe\">\n",
       "  <thead>\n",
       "    <tr style=\"text-align: right;\">\n",
       "      <th></th>\n",
       "      <th>Object name</th>\n",
       "      <th>Material</th>\n",
       "      <th>Stained</th>\n",
       "      <th>Surface properties</th>\n",
       "    </tr>\n",
       "  </thead>\n",
       "  <tbody>\n",
       "    <tr>\n",
       "      <th>0</th>\n",
       "      <td>Christmas bear</td>\n",
       "      <td>cloth</td>\n",
       "      <td>Pluriform</td>\n",
       "      <td>NaN</td>\n",
       "    </tr>\n",
       "    <tr>\n",
       "      <th>1</th>\n",
       "      <td>Lab-keys</td>\n",
       "      <td>metal, cloth</td>\n",
       "      <td>NaN</td>\n",
       "      <td>composite, shiny</td>\n",
       "    </tr>\n",
       "    <tr>\n",
       "      <th>2</th>\n",
       "      <td>Apricot</td>\n",
       "      <td>fruit</td>\n",
       "      <td>Uniform</td>\n",
       "      <td>NaN</td>\n",
       "    </tr>\n",
       "    <tr>\n",
       "      <th>3</th>\n",
       "      <td>Round candle</td>\n",
       "      <td>candle, metal</td>\n",
       "      <td>NaN</td>\n",
       "      <td>composite, shiny</td>\n",
       "    </tr>\n",
       "    <tr>\n",
       "      <th>4</th>\n",
       "      <td>Nut</td>\n",
       "      <td>wood</td>\n",
       "      <td>Uniform</td>\n",
       "      <td>ribbed</td>\n",
       "    </tr>\n",
       "  </tbody>\n",
       "</table>\n",
       "</div>"
      ],
      "text/plain": [
       "      Object name       Material    Stained Surface properties\n",
       "0  Christmas bear          cloth  Pluriform                NaN\n",
       "1        Lab-keys   metal, cloth        NaN   composite, shiny\n",
       "2         Apricot          fruit    Uniform                NaN\n",
       "3    Round candle  candle, metal        NaN   composite, shiny\n",
       "4             Nut           wood    Uniform             ribbed"
      ]
     },
     "execution_count": 3,
     "metadata": {},
     "output_type": "execute_result"
    }
   ],
   "source": [
    "# Loading the dataset\n",
    "file_path = 'annotation_table.csv'\n",
    "data = pd.read_csv(file_path)\n",
    "\n",
    "# Ordering the dataset\n",
    "sorted_data_more_materials = data.drop(['No.'], axis=1)\n",
    "\n",
    "# Cleaning the dataset (all letter lowercase)\n",
    "sorted_data_more_materials['Material'] = sorted_data_more_materials['Material'].str.lower()\n",
    "sorted_data_more_materials['Surface properties'] = sorted_data_more_materials['Surface properties'].str.lower()\n",
    "\n",
    "sorted_data_more_materials.head()"
   ]
  },
  {
   "cell_type": "code",
   "execution_count": 4,
   "id": "85cfe676",
   "metadata": {},
   "outputs": [
    {
     "data": {
      "text/plain": [
       "754"
      ]
     },
     "execution_count": 4,
     "metadata": {},
     "output_type": "execute_result"
    }
   ],
   "source": [
    "len(data_cleaned)"
   ]
  },
  {
   "cell_type": "code",
   "execution_count": 5,
   "id": "3f0317f6",
   "metadata": {},
   "outputs": [
    {
     "data": {
      "text/plain": [
       "1000"
      ]
     },
     "execution_count": 5,
     "metadata": {},
     "output_type": "execute_result"
    }
   ],
   "source": [
    "len(sorted_data_more_materials)"
   ]
  },
  {
   "cell_type": "markdown",
   "id": "8d792ff8",
   "metadata": {},
   "source": [
    "# EDA"
   ]
  },
  {
   "cell_type": "code",
   "execution_count": 6,
   "id": "fa17c0e6",
   "metadata": {
    "scrolled": true
   },
   "outputs": [
    {
     "data": {
      "text/html": [
       "<div>\n",
       "<style scoped>\n",
       "    .dataframe tbody tr th:only-of-type {\n",
       "        vertical-align: middle;\n",
       "    }\n",
       "\n",
       "    .dataframe tbody tr th {\n",
       "        vertical-align: top;\n",
       "    }\n",
       "\n",
       "    .dataframe thead th {\n",
       "        text-align: right;\n",
       "    }\n",
       "</style>\n",
       "<table border=\"1\" class=\"dataframe\">\n",
       "  <thead>\n",
       "    <tr style=\"text-align: right;\">\n",
       "      <th></th>\n",
       "      <th>Object name</th>\n",
       "      <th>Material</th>\n",
       "      <th>Stained</th>\n",
       "      <th>Surface properties</th>\n",
       "    </tr>\n",
       "  </thead>\n",
       "  <tbody>\n",
       "    <tr>\n",
       "      <th>0</th>\n",
       "      <td>Christmas bear</td>\n",
       "      <td>cloth</td>\n",
       "      <td>pluriform</td>\n",
       "      <td>NaN</td>\n",
       "    </tr>\n",
       "    <tr>\n",
       "      <th>2</th>\n",
       "      <td>Apricot</td>\n",
       "      <td>fruit</td>\n",
       "      <td>uniform</td>\n",
       "      <td>NaN</td>\n",
       "    </tr>\n",
       "    <tr>\n",
       "      <th>4</th>\n",
       "      <td>Nut</td>\n",
       "      <td>wood</td>\n",
       "      <td>uniform</td>\n",
       "      <td>ribbed</td>\n",
       "    </tr>\n",
       "    <tr>\n",
       "      <th>5</th>\n",
       "      <td>Pot</td>\n",
       "      <td>pottery</td>\n",
       "      <td>uniform</td>\n",
       "      <td>smooth</td>\n",
       "    </tr>\n",
       "    <tr>\n",
       "      <th>6</th>\n",
       "      <td>Shell</td>\n",
       "      <td>shell</td>\n",
       "      <td>uniform</td>\n",
       "      <td>rough</td>\n",
       "    </tr>\n",
       "    <tr>\n",
       "      <th>...</th>\n",
       "      <td>...</td>\n",
       "      <td>...</td>\n",
       "      <td>...</td>\n",
       "      <td>...</td>\n",
       "    </tr>\n",
       "    <tr>\n",
       "      <th>991</th>\n",
       "      <td>emma eend book</td>\n",
       "      <td>plastic</td>\n",
       "      <td>pluriform</td>\n",
       "      <td>shiny</td>\n",
       "    </tr>\n",
       "    <tr>\n",
       "      <th>992</th>\n",
       "      <td>yellow toy box</td>\n",
       "      <td>plastic</td>\n",
       "      <td>uniform</td>\n",
       "      <td>shiny</td>\n",
       "    </tr>\n",
       "    <tr>\n",
       "      <th>993</th>\n",
       "      <td>bambix</td>\n",
       "      <td>paper</td>\n",
       "      <td>pluriform</td>\n",
       "      <td>NaN</td>\n",
       "    </tr>\n",
       "    <tr>\n",
       "      <th>994</th>\n",
       "      <td>pescado bottle</td>\n",
       "      <td>glass</td>\n",
       "      <td>pluriform</td>\n",
       "      <td>shiny</td>\n",
       "    </tr>\n",
       "    <tr>\n",
       "      <th>999</th>\n",
       "      <td>strawberry cake</td>\n",
       "      <td>food</td>\n",
       "      <td>pluriform</td>\n",
       "      <td>NaN</td>\n",
       "    </tr>\n",
       "  </tbody>\n",
       "</table>\n",
       "<p>754 rows × 4 columns</p>\n",
       "</div>"
      ],
      "text/plain": [
       "         Object name Material    Stained Surface properties\n",
       "0     Christmas bear    cloth  pluriform                NaN\n",
       "2            Apricot    fruit    uniform                NaN\n",
       "4                Nut     wood    uniform             ribbed\n",
       "5                Pot  pottery    uniform             smooth\n",
       "6              Shell    shell    uniform              rough\n",
       "..               ...      ...        ...                ...\n",
       "991   emma eend book  plastic  pluriform              shiny\n",
       "992   yellow toy box  plastic    uniform              shiny\n",
       "993           bambix    paper  pluriform                NaN\n",
       "994   pescado bottle    glass  pluriform              shiny\n",
       "999  strawberry cake     food  pluriform                NaN\n",
       "\n",
       "[754 rows x 4 columns]"
      ]
     },
     "execution_count": 6,
     "metadata": {},
     "output_type": "execute_result"
    }
   ],
   "source": [
    "data_cleaned"
   ]
  },
  {
   "cell_type": "markdown",
   "id": "eaa90258",
   "metadata": {},
   "source": [
    "## Counting material instances"
   ]
  },
  {
   "cell_type": "code",
   "execution_count": 7,
   "id": "f1ff82cc",
   "metadata": {},
   "outputs": [
    {
     "name": "stdout",
     "output_type": "stream",
     "text": [
      "{'plastic': 290, 'paper': 77, 'wood': 68, 'metal': 64, 'pottery': 58, 'cloth': 48, 'fruit': 29, 'vegetable': 24, 'stone': 17, 'glass': 17, 'shell': 13, 'food': 13, 'rubber': 9, 'candle': 6, 'rope': 5, 'sponge': 5, 'flower': 4, 'wire': 3, 'foam': 1, 'cotton': 1, 'cane': 1, 'feathers': 1}\n"
     ]
    }
   ],
   "source": [
    "material_counts = data_cleaned['Material'].value_counts().to_dict()\n",
    "\n",
    "print(material_counts)"
   ]
  },
  {
   "cell_type": "code",
   "execution_count": 8,
   "id": "1b4ce81a",
   "metadata": {},
   "outputs": [
    {
     "data": {
      "image/png": "[encoded data removed]",
      "text/plain": [
       "<Figure size 720x432 with 1 Axes>"
      ]
     },
     "metadata": {
      "needs_background": "light"
     },
     "output_type": "display_data"
    }
   ],
   "source": [
    "import matplotlib.pyplot as plt\n",
    "\n",
    "# Creating a bar chart to visualize the material counts\n",
    "plt.figure(figsize=(10, 6))\n",
    "plt.bar(material_counts.keys(), material_counts.values())\n",
    "plt.xlabel('Material', fontsize=12)\n",
    "plt.ylabel('Count', fontsize=12)\n",
    "plt.title('Count of Each Material', fontsize=14)\n",
    "plt.xticks(rotation=45, ha='right', fontsize=10)\n",
    "plt.tight_layout()\n",
    "\n",
    "# Displaying the graph\n",
    "plt.show()"
   ]
  },
  {
   "cell_type": "code",
   "execution_count": 13,
   "id": "4e5479f0",
   "metadata": {},
   "outputs": [
    {
     "data": {
      "image/png": "[encoded data removed]",
      "text/plain": [
       "<Figure size 720x432 with 1 Axes>"
      ]
     },
     "metadata": {
      "needs_background": "light"
     },
     "output_type": "display_data"
    }
   ],
   "source": [
    "import matplotlib.pyplot as plt\n",
    "\n",
    "# Sorting the dictionary by values and selecting the top 10 materials\n",
    "top_10_materials = dict(sorted(material_counts.items(), key=lambda x: x[1], reverse=True)[:10])\n",
    "\n",
    "# Creating a bar chart to visualize the top 10 material counts\n",
    "plt.figure(figsize=(10, 6))\n",
    "bars = plt.bar(top_10_materials.keys(), top_10_materials.values())\n",
    "\n",
    "# Adding count labels on top of each bar\n",
    "for bar in bars:\n",
    "    height = bar.get_height()\n",
    "    plt.text(bar.get_x() + bar.get_width() / 2, height, str(height), ha='center', va='bottom', fontsize=10)\n",
    "\n",
    "plt.xlabel('Material', fontsize=12)\n",
    "plt.ylabel('Count', fontsize=12)\n",
    "plt.title('Top 10 Materials by Count', fontsize=14)\n",
    "plt.xticks(rotation=45, ha='right', fontsize=10)\n",
    "plt.tight_layout()\n",
    "\n",
    "# Displaying the graph\n",
    "plt.show()\n"
   ]
  },
  {
   "cell_type": "markdown",
   "id": "9bc83cfd",
   "metadata": {},
   "source": [
    "## How often does each Stain correspond to each Material"
   ]
  },
  {
   "cell_type": "code",
   "execution_count": 9,
   "id": "99e66cda",
   "metadata": {},
   "outputs": [
    {
     "name": "stdout",
     "output_type": "stream",
     "text": [
      "{'pluriform': {'candle': 5, 'cane': 0, 'cloth': 38, 'cotton': 0, 'feathers': 1, 'flower': 3, 'foam': 0, 'food': 11, 'fruit': 12, 'glass': 10, 'metal': 48, 'paper': 73, 'plastic': 226, 'pottery': 48, 'rope': 1, 'rubber': 4, 'shell': 12, 'sponge': 2, 'stone': 12, 'vegetable': 9, 'wire': 1, 'wood': 34}, 'uniform': {'candle': 1, 'cane': 1, 'cloth': 10, 'cotton': 1, 'feathers': 0, 'flower': 1, 'foam': 1, 'food': 2, 'fruit': 17, 'glass': 7, 'metal': 16, 'paper': 4, 'plastic': 64, 'pottery': 10, 'rope': 4, 'rubber': 5, 'shell': 1, 'sponge': 3, 'stone': 4, 'vegetable': 14, 'wire': 2, 'wood': 34}}\n"
     ]
    }
   ],
   "source": [
    "# Grouping by \"Material\" and \"Stained\" and counting occurrences\n",
    "material_stained_counts = data_cleaned.groupby(['Material', 'Stained']).size().unstack(fill_value=0).to_dict()\n",
    "\n",
    "# Display the dictionary\n",
    "print(material_stained_counts)\n"
   ]
  },
  {
   "cell_type": "code",
   "execution_count": 18,
   "id": "e54813fc",
   "metadata": {},
   "outputs": [
    {
     "data": {
      "text/html": [
       "<div>\n",
       "<style scoped>\n",
       "    .dataframe tbody tr th:only-of-type {\n",
       "        vertical-align: middle;\n",
       "    }\n",
       "\n",
       "    .dataframe tbody tr th {\n",
       "        vertical-align: top;\n",
       "    }\n",
       "\n",
       "    .dataframe thead th {\n",
       "        text-align: right;\n",
       "    }\n",
       "</style>\n",
       "<table border=\"1\" class=\"dataframe\">\n",
       "  <thead>\n",
       "    <tr style=\"text-align: right;\">\n",
       "      <th></th>\n",
       "      <th>Material</th>\n",
       "      <th>Total</th>\n",
       "      <th>Uniform %</th>\n",
       "      <th>Pluriform %</th>\n",
       "    </tr>\n",
       "  </thead>\n",
       "  <tbody>\n",
       "    <tr>\n",
       "      <th>12</th>\n",
       "      <td>plastic</td>\n",
       "      <td>290</td>\n",
       "      <td>22.068966</td>\n",
       "      <td>77.931034</td>\n",
       "    </tr>\n",
       "    <tr>\n",
       "      <th>11</th>\n",
       "      <td>paper</td>\n",
       "      <td>77</td>\n",
       "      <td>5.194805</td>\n",
       "      <td>94.805195</td>\n",
       "    </tr>\n",
       "    <tr>\n",
       "      <th>21</th>\n",
       "      <td>wood</td>\n",
       "      <td>68</td>\n",
       "      <td>50.000000</td>\n",
       "      <td>50.000000</td>\n",
       "    </tr>\n",
       "    <tr>\n",
       "      <th>10</th>\n",
       "      <td>metal</td>\n",
       "      <td>64</td>\n",
       "      <td>25.000000</td>\n",
       "      <td>75.000000</td>\n",
       "    </tr>\n",
       "    <tr>\n",
       "      <th>13</th>\n",
       "      <td>pottery</td>\n",
       "      <td>58</td>\n",
       "      <td>17.241379</td>\n",
       "      <td>82.758621</td>\n",
       "    </tr>\n",
       "    <tr>\n",
       "      <th>2</th>\n",
       "      <td>cloth</td>\n",
       "      <td>48</td>\n",
       "      <td>20.833333</td>\n",
       "      <td>79.166667</td>\n",
       "    </tr>\n",
       "    <tr>\n",
       "      <th>8</th>\n",
       "      <td>fruit</td>\n",
       "      <td>29</td>\n",
       "      <td>58.620690</td>\n",
       "      <td>41.379310</td>\n",
       "    </tr>\n",
       "    <tr>\n",
       "      <th>19</th>\n",
       "      <td>vegetable</td>\n",
       "      <td>23</td>\n",
       "      <td>60.869565</td>\n",
       "      <td>39.130435</td>\n",
       "    </tr>\n",
       "    <tr>\n",
       "      <th>9</th>\n",
       "      <td>glass</td>\n",
       "      <td>17</td>\n",
       "      <td>41.176471</td>\n",
       "      <td>58.823529</td>\n",
       "    </tr>\n",
       "    <tr>\n",
       "      <th>18</th>\n",
       "      <td>stone</td>\n",
       "      <td>16</td>\n",
       "      <td>25.000000</td>\n",
       "      <td>75.000000</td>\n",
       "    </tr>\n",
       "    <tr>\n",
       "      <th>7</th>\n",
       "      <td>food</td>\n",
       "      <td>13</td>\n",
       "      <td>15.384615</td>\n",
       "      <td>84.615385</td>\n",
       "    </tr>\n",
       "    <tr>\n",
       "      <th>16</th>\n",
       "      <td>shell</td>\n",
       "      <td>13</td>\n",
       "      <td>7.692308</td>\n",
       "      <td>92.307692</td>\n",
       "    </tr>\n",
       "    <tr>\n",
       "      <th>15</th>\n",
       "      <td>rubber</td>\n",
       "      <td>9</td>\n",
       "      <td>55.555556</td>\n",
       "      <td>44.444444</td>\n",
       "    </tr>\n",
       "    <tr>\n",
       "      <th>0</th>\n",
       "      <td>candle</td>\n",
       "      <td>6</td>\n",
       "      <td>16.666667</td>\n",
       "      <td>83.333333</td>\n",
       "    </tr>\n",
       "    <tr>\n",
       "      <th>14</th>\n",
       "      <td>rope</td>\n",
       "      <td>5</td>\n",
       "      <td>80.000000</td>\n",
       "      <td>20.000000</td>\n",
       "    </tr>\n",
       "    <tr>\n",
       "      <th>17</th>\n",
       "      <td>sponge</td>\n",
       "      <td>5</td>\n",
       "      <td>60.000000</td>\n",
       "      <td>40.000000</td>\n",
       "    </tr>\n",
       "    <tr>\n",
       "      <th>5</th>\n",
       "      <td>flower</td>\n",
       "      <td>4</td>\n",
       "      <td>25.000000</td>\n",
       "      <td>75.000000</td>\n",
       "    </tr>\n",
       "    <tr>\n",
       "      <th>20</th>\n",
       "      <td>wire</td>\n",
       "      <td>3</td>\n",
       "      <td>66.666667</td>\n",
       "      <td>33.333333</td>\n",
       "    </tr>\n",
       "    <tr>\n",
       "      <th>4</th>\n",
       "      <td>feathers</td>\n",
       "      <td>1</td>\n",
       "      <td>0.000000</td>\n",
       "      <td>100.000000</td>\n",
       "    </tr>\n",
       "    <tr>\n",
       "      <th>1</th>\n",
       "      <td>cane</td>\n",
       "      <td>1</td>\n",
       "      <td>100.000000</td>\n",
       "      <td>0.000000</td>\n",
       "    </tr>\n",
       "    <tr>\n",
       "      <th>6</th>\n",
       "      <td>foam</td>\n",
       "      <td>1</td>\n",
       "      <td>100.000000</td>\n",
       "      <td>0.000000</td>\n",
       "    </tr>\n",
       "    <tr>\n",
       "      <th>3</th>\n",
       "      <td>cotton</td>\n",
       "      <td>1</td>\n",
       "      <td>100.000000</td>\n",
       "      <td>0.000000</td>\n",
       "    </tr>\n",
       "  </tbody>\n",
       "</table>\n",
       "</div>"
      ],
      "text/plain": [
       "     Material  Total   Uniform %  Pluriform %\n",
       "12    plastic    290   22.068966    77.931034\n",
       "11      paper     77    5.194805    94.805195\n",
       "21       wood     68   50.000000    50.000000\n",
       "10      metal     64   25.000000    75.000000\n",
       "13    pottery     58   17.241379    82.758621\n",
       "2       cloth     48   20.833333    79.166667\n",
       "8       fruit     29   58.620690    41.379310\n",
       "19  vegetable     23   60.869565    39.130435\n",
       "9       glass     17   41.176471    58.823529\n",
       "18      stone     16   25.000000    75.000000\n",
       "7        food     13   15.384615    84.615385\n",
       "16      shell     13    7.692308    92.307692\n",
       "15     rubber      9   55.555556    44.444444\n",
       "0      candle      6   16.666667    83.333333\n",
       "14       rope      5   80.000000    20.000000\n",
       "17     sponge      5   60.000000    40.000000\n",
       "5      flower      4   25.000000    75.000000\n",
       "20       wire      3   66.666667    33.333333\n",
       "4    feathers      1    0.000000   100.000000\n",
       "1        cane      1  100.000000     0.000000\n",
       "6        foam      1  100.000000     0.000000\n",
       "3      cotton      1  100.000000     0.000000"
      ]
     },
     "execution_count": 18,
     "metadata": {},
     "output_type": "execute_result"
    }
   ],
   "source": [
    "# Create a DataFrame for the counts\n",
    "pluriform_df = pd.DataFrame(material_stained_counts['pluriform'], index=['Pluriform']).T\n",
    "uniform_df = pd.DataFrame(material_stained_counts['uniform'], index=['Uniform']).T\n",
    "\n",
    "# Combine and calculate totals\n",
    "combined_df = pluriform_df.join(uniform_df, how='outer').fillna(0)\n",
    "combined_df['Total'] = combined_df['Pluriform'] + combined_df['Uniform']\n",
    "\n",
    "# Calculate percentages\n",
    "combined_df['Uniform %'] = (combined_df['Uniform'] / combined_df['Total']) * 100\n",
    "combined_df['Pluriform %'] = (combined_df['Pluriform'] / combined_df['Total']) * 100\n",
    "\n",
    "# Reset the index and rename columns\n",
    "material_stain_df = combined_df.reset_index().rename(columns={'index': 'Material', 'Pluriform': 'Pluriform', 'Uniform': 'Uniform'})\n",
    "\n",
    "# Select and reorder columns\n",
    "material_stain_df = material_stain_df[['Material', 'Total', 'Uniform %', 'Pluriform %']]\n",
    "\n",
    "# Sort by the Total column in descending order\n",
    "material_stain_df = material_stain_df.sort_values(by='Total', ascending=False)\n",
    "\n",
    "# # Optionally save the DataFrame to a CSV file\n",
    "# material_stain_df.to_csv('material_stain_analysis.csv', index=False)\n",
    "\n",
    "# Display or save the DataFrame\n",
    "material_stain_df"
   ]
  },
  {
   "cell_type": "markdown",
   "id": "2d51f2e8",
   "metadata": {},
   "source": [
    "## How often does each Surface correspond to each Material"
   ]
  },
  {
   "cell_type": "markdown",
   "id": "c8dc346d",
   "metadata": {},
   "source": [
    "### Recycling categories"
   ]
  },
  {
   "cell_type": "code",
   "execution_count": 11,
   "id": "87509232",
   "metadata": {},
   "outputs": [],
   "source": [
    "import pandas as pd\n",
    "\n",
    "# Defining which material belongs to which recycling category\n",
    "recycling_categories = {\n",
    "    'plastic': 'Plastics',\n",
    "    'rubber': 'Plastics',\n",
    "    'foam': 'Plastics',\n",
    "    'paper': 'Paper and Cardboard',\n",
    "    'metal': 'Metal',\n",
    "    'wire': 'Metal',\n",
    "    'copper': 'Metal',\n",
    "    'glass': 'Glass',\n",
    "    'fruit': 'Organics',\n",
    "    'vegetable': 'Organics',\n",
    "    'flower': 'Organics',\n",
    "    'food': 'Organics',\n",
    "    'wood': 'Wood and Natural Fibers',\n",
    "    'cane': 'Wood and Natural Fibers',\n",
    "    'cotton': 'Wood and Natural Fibers',\n",
    "    'feathers': 'Wood and Natural Fibers',\n",
    "    'pottery': 'Ceramics and Pottery',\n",
    "    'stone': 'Stone and Shells',\n",
    "    'shell': 'Stone and Shells',\n",
    "    'cloth': 'Cloth and Textiles',\n",
    "    'rope': 'Cloth and Textiles',\n",
    "    'sponge': 'Cloth and Textiles',\n",
    "    'candle': 'Hard-to-Recycle'\n",
    "}\n",
    "\n",
    "df_material_recycling = data_cleaned.copy()\n",
    "df_material_recycling['Material'] = df_material_recycling['Material'].map(recycling_categories)"
   ]
  },
  {
   "cell_type": "code",
   "execution_count": 12,
   "id": "2d8c5493",
   "metadata": {},
   "outputs": [
    {
     "data": {
      "image/png": "[encoded data removed]",
      "text/plain": [
       "<Figure size 720x432 with 1 Axes>"
      ]
     },
     "metadata": {
      "needs_background": "light"
     },
     "output_type": "display_data"
    }
   ],
   "source": [
    "import matplotlib.pyplot as plt\n",
    "\n",
    "recycling_category_counts = df_material_recycling['Material'].value_counts()\n",
    "\n",
    "# Define colors corresponding to recycling bins\n",
    "colors = {\n",
    "    'Plastics': '#FFA500',                 # Orange\n",
    "    'Paper and Cardboard': '#0000FF',      # Blue\n",
    "    'Metal': '#808080',                    # Gray\n",
    "    'Glass': '#008000',                    # Green\n",
    "    'Organics': '#A52A2A',                 # Brown\n",
    "    'Wood and Natural Fibers': '#D2B48C',  # Tan\n",
    "    'Ceramics and Pottery': '#800080',     # Purple\n",
    "    'Stone and Shells': '#8B4513',         # Dark Brown\n",
    "    'Cloth and Textiles': '#FFD700',       # Yellow\n",
    "    'Hard-to-Recycle': '#FF0000'           # Red\n",
    "}\n",
    "\n",
    "bar_colors = [colors.get(category, '#000000') for category in recycling_category_counts.index]\n",
    "\n",
    "# Create a graph\n",
    "plt.figure(figsize=(10, 6))\n",
    "bars = plt.bar(recycling_category_counts.index, recycling_category_counts.values, color=bar_colors)\n",
    "for bar in bars:\n",
    "    height = bar.get_height()\n",
    "    plt.text(bar.get_x() + bar.get_width() / 2, height, str(height), ha='center', va='bottom', fontsize=10)\n",
    "\n",
    "plt.xlabel('Recycling Category', fontsize=12)\n",
    "plt.ylabel('Count', fontsize=12)\n",
    "plt.title('Counts for Each Recycling Category', fontsize=14)\n",
    "plt.xticks(rotation=45, ha='right', fontsize=10)\n",
    "plt.tight_layout()\n",
    "plt.show()"
   ]
  },
  {
   "cell_type": "code",
   "execution_count": null,
   "id": "664a726c",
   "metadata": {},
   "outputs": [],
   "source": []
  }
 ],
 "metadata": {
  "kernelspec": {
   "display_name": "Python 3",
   "language": "python",
   "name": "python3"
  },
  "language_info": {
   "codemirror_mode": {
    "name": "ipython",
    "version": 3
   },
   "file_extension": ".py",
   "mimetype": "text/x-python",
   "name": "python",
   "nbconvert_exporter": "python",
   "pygments_lexer": "ipython3",
   "version": "3.8.8"
  }
 },
 "nbformat": 4,
 "nbformat_minor": 5
}
